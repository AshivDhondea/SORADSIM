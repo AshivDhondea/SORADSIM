{
 "cells": [
  {
   "cell_type": "markdown",
   "metadata": {},
   "source": [
    "Based on main_000_readtle.py\n",
    "\n",
    "Demonstrate reading a TLE file.\n",
    "\n",
    "Example: ISS TLE file downloaded from celestrak.com on 3 August 2017\n",
    "\n",
    "ISS (ZARYA)             \n",
    "\n",
    "1 25544U 98067A   17213.83387828  .00000874  00000-0  20415-4 0  9996\n",
    "\n",
    "2 25544  51.6427 170.7730 0006301  93.4612 353.3163 15.54246517 68858\n",
    "\n",
    "@author: Ashiv Dhondea\n",
    "\n",
    "Created on 03 August 2017"
   ]
  },
  {
   "cell_type": "code",
   "execution_count": 1,
   "metadata": {
    "collapsed": true
   },
   "outputs": [],
   "source": [
    "# Load the libraries required\n",
    "import AstroFunctions as AstFn\n",
    "\n",
    "import math\n",
    "import datetime as dt\n",
    "import pytz"
   ]
  },
  {
   "cell_type": "code",
   "execution_count": 2,
   "metadata": {
    "collapsed": true
   },
   "outputs": [],
   "source": [
    "# Place the contents of the TLE file here.\n",
    "## ISS (ZARYA)                        \n",
    "tle_line1 = '1 25544U 98067A   17213.83387828  .00000874  00000-0  20415-4 0  9996';\n",
    "tle_line2 = '2 25544  51.6427 170.7730 0006301  93.4612 353.3163 15.54246517 68858';"
   ]
  },
  {
   "cell_type": "code",
   "execution_count": 3,
   "metadata": {
    "collapsed": true
   },
   "outputs": [],
   "source": [
    "# Read the Keplerians as well as the epoch of validity of the TLE file\n",
    "a,e,i,BigOmega,omega,E,nu,epoch  = AstFn.fnTLEtoKeps(tle_line1,tle_line2);"
   ]
  },
  {
   "cell_type": "code",
   "execution_count": 4,
   "metadata": {
    "collapsed": false
   },
   "outputs": [
    {
     "name": "stdout",
     "output_type": "stream",
     "text": [
      "semi-major axis in [km]\n",
      "6782.48079627\n",
      "eccentricity\n",
      "0.0006301\n",
      "inclination in [deg]\n",
      "51.6427\n",
      "RAAN in [deg]\n",
      "170.773\n",
      "argument of perigee in [deg]\n",
      "93.4612\n",
      "true anomaly in [deg]\n",
      "96.4355054078\n",
      "epoch\n",
      "17213.83387828\n"
     ]
    }
   ],
   "source": [
    "print 'semi-major axis in [km]' \n",
    "print a\n",
    "print 'eccentricity' \n",
    "print e\n",
    "print 'inclination in [deg]' \n",
    "print i\n",
    "print 'RAAN in [deg]' \n",
    "print BigOmega\n",
    "print 'argument of perigee in [deg]' \n",
    "print omega\n",
    "print 'true anomaly in [deg]' \n",
    "print math.degrees(nu)\n",
    "print 'epoch' \n",
    "print epoch"
   ]
  },
  {
   "cell_type": "code",
   "execution_count": 5,
   "metadata": {
    "collapsed": false
   },
   "outputs": [
    {
     "name": "stdout",
     "output_type": "stream",
     "text": [
      "TLE epoch date is 2017-08-01\n",
      "UTC time =  20 h 0 min 47.083392 s\n"
     ]
    }
   ],
   "source": [
    "# Calculate epoch at which the TLE was valid\n",
    "year,dayy, hrs, mins, secs, millisecs = AstFn.fn_Calculate_Epoch_Time(epoch);\n",
    "todays_date = AstFn.fn_epoch_date(year,dayy);\n",
    "print \"TLE epoch date is\", todays_date\n",
    "print \"UTC time = \",hrs,\"h\",mins,\"min\",secs+millisecs,\"s\""
   ]
  },
  {
   "cell_type": "code",
   "execution_count": 6,
   "metadata": {
    "collapsed": true
   },
   "outputs": [],
   "source": [
    "# Create a datetime object for the epoch of validity\n",
    "timestamp_tle_epoch = dt.datetime(year=todays_date.year,month=todays_date.month,day=todays_date.day,hour=hrs,minute=mins,second=secs,microsecond=int(millisecs),tzinfo= pytz.utc);"
   ]
  },
  {
   "cell_type": "code",
   "execution_count": 7,
   "metadata": {
    "collapsed": false
   },
   "outputs": [
    {
     "name": "stdout",
     "output_type": "stream",
     "text": [
      "ECI state vector read from TLE file\n",
      "[  6.71156486e+03  -3.57343479e+02  -9.14171985e+02  -5.44290159e-01\n",
      "   4.83654902e+00  -5.92219633e+00]\n"
     ]
    }
   ],
   "source": [
    "# Convert Keplerians to Cartesian state vector\n",
    "xstate = AstFn.fnKepsToCarts(a,e, math.radians(i), math.radians(omega),math.radians(BigOmega),nu);\n",
    "print 'ECI state vector read from TLE file'\n",
    "print xstate"
   ]
  },
  {
   "cell_type": "code",
   "execution_count": 8,
   "metadata": {
    "collapsed": false
   },
   "outputs": [
    {
     "name": "stdout",
     "output_type": "stream",
     "text": [
      "the Kepler period is 92.649395 min\n"
     ]
    }
   ],
   "source": [
    "# Find Kepler period\n",
    "T = AstFn.fnKeplerOrbitalPeriod(a);\n",
    "print \"the Kepler period is %f min\" %(T/60.)"
   ]
  },
  {
   "cell_type": "code",
   "execution_count": null,
   "metadata": {
    "collapsed": true
   },
   "outputs": [],
   "source": []
  }
 ],
 "metadata": {
  "anaconda-cloud": {},
  "kernelspec": {
   "display_name": "Python [Root]",
   "language": "python",
   "name": "Python [Root]"
  },
  "language_info": {
   "codemirror_mode": {
    "name": "ipython",
    "version": 2
   },
   "file_extension": ".py",
   "mimetype": "text/x-python",
   "name": "python",
   "nbconvert_exporter": "python",
   "pygments_lexer": "ipython2",
   "version": "2.7.12"
  }
 },
 "nbformat": 4,
 "nbformat_minor": 0
}
